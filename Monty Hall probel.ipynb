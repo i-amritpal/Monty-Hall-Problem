{
 "cells": [
  {
   "cell_type": "markdown",
   "id": "26ab4cd0",
   "metadata": {},
   "source": [
    "Importing libraries"
   ]
  },
  {
   "cell_type": "code",
   "execution_count": 1,
   "id": "2aafb6db",
   "metadata": {},
   "outputs": [],
   "source": [
    "import random\n",
    "import matplotlib.pyplot as plt"
   ]
  },
  {
   "cell_type": "markdown",
   "id": "0d3614e8",
   "metadata": {},
   "source": [
    "Defining a function to simulate the game:"
   ]
  },
  {
   "cell_type": "code",
   "execution_count": null,
   "id": "37f7939b",
   "metadata": {},
   "outputs": [],
   "source": [
    "def monty_hall(switch=False):\n",
    "    # Initializing the doors as 0,1,2\n",
    "    doors = [0, 1, 2]\n",
    "    # Randomly selecting the door with the prize\n",
    "    prize_door = random.choice(doors)\n",
    "    # Person selects a door\n",
    "    chosen_door = random.choice(doors)\n",
    "    # Host revealing one of the other doors without the prize\n",
    "    revealed_door = random.choice([door for door in doors if door != prize_door and door != chosen_door])\n",
    "    if switch:\n",
    "        # Person switches to the other unopened door\n",
    "        chosen_door = [door for door in doors if door != chosen_door and door != revealed_door][0]\n",
    "    # Determine if the person won\n",
    "    return chosen_door == prize_door\n"
   ]
  },
  {
   "cell_type": "markdown",
   "id": "bb6b1c59",
   "metadata": {},
   "source": [
    "Running the simulation for a large number of trials, and keep track of the number of wins and losses for both switching and not switching:"
   ]
  },
  {
   "cell_type": "code",
   "execution_count": 3,
   "id": "553dc15d",
   "metadata": {},
   "outputs": [],
   "source": [
    "# Let Number of trials\n",
    "n = 10000\n",
    "\n",
    "# Initializing counters\n",
    "switch_wins = 0\n",
    "switch_losses = 0\n",
    "stay_wins = 0\n",
    "stay_losses = 0\n",
    "\n",
    "# Simulate the game n times\n",
    "for i in range(n):\n",
    "    # Switch\n",
    "    if monty_hall(switch=True):\n",
    "        switch_wins += 1\n",
    "    else:\n",
    "        switch_losses += 1\n",
    "    # Don't switch\n",
    "    if monty_hall(switch=False):\n",
    "        stay_wins += 1\n",
    "    else:\n",
    "        stay_losses += 1\n"
   ]
  },
  {
   "cell_type": "markdown",
   "id": "30e4c873",
   "metadata": {},
   "source": [
    "Finally, printing out the results and creating a bar chart to visualize them:"
   ]
  },
  {
   "cell_type": "code",
   "execution_count": 6,
   "id": "51dc02c1",
   "metadata": {},
   "outputs": [
    {
     "name": "stdout",
     "output_type": "stream",
     "text": [
      "Switching wins: 67.37%\n",
      "Switching losses: 32.63%\n",
      "Not switching wins: 33.89%\n",
      "Not switching losses: 66.11%\n"
     ]
    },
    {
     "data": {
      "image/png": "[encoded data removed]",
      "text/plain": [
       "<Figure size 640x480 with 1 Axes>"
      ]
     },
     "metadata": {},
     "output_type": "display_data"
    }
   ],
   "source": [
    "# Printing results\n",
    "print(f\"Switching wins: {switch_wins/n:.2%}\")\n",
    "print(f\"Switching losses: {switch_losses/n:.2%}\")\n",
    "print(f\"Not switching wins: {stay_wins/n:.2%}\")\n",
    "print(f\"Not switching losses: {stay_losses/n:.2%}\")\n",
    "\n",
    "# Creating bar chart\n",
    "fig, ax = plt.subplots()\n",
    "ax.bar([\"Switching Wins\", \"Switching Losses\", \"Not Switching Wins\", \"Not Switching Losses\"],\n",
    "       [switch_wins/n, switch_losses/n, stay_wins/n, stay_losses/n])\n",
    "ax.set_ylabel(\"Probability\")\n",
    "ax.set_title(\"Monty Hall Problem\")\n",
    "plt.show()\n"
   ]
  },
  {
   "cell_type": "code",
   "execution_count": null,
   "id": "20b4787e",
   "metadata": {
    "scrolled": true
   },
   "outputs": [],
   "source": []
  },
  {
   "cell_type": "code",
   "execution_count": null,
   "id": "448ac329",
   "metadata": {},
   "outputs": [],
   "source": []
  }
 ],
 "metadata": {
  "kernelspec": {
   "display_name": "Python 3 (ipykernel)",
   "language": "python",
   "name": "python3"
  },
  "language_info": {
   "codemirror_mode": {
    "name": "ipython",
    "version": 3
   },
   "file_extension": ".py",
   "mimetype": "text/x-python",
   "name": "python",
   "nbconvert_exporter": "python",
   "pygments_lexer": "ipython3",
   "version": "3.9.7"
  }
 },
 "nbformat": 4,
 "nbformat_minor": 5
}
